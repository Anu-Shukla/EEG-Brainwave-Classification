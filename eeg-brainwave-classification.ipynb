{
 "cells": [
  {
   "cell_type": "code",
   "execution_count": 1,
   "id": "e777bacd",
   "metadata": {
    "_cell_guid": "b1076dfc-b9ad-4769-8c92-a6c4dae69d19",
    "_uuid": "8f2839f25d086af736a60e9eeb907d3b93b6e0e5",
    "execution": {
     "iopub.execute_input": "2025-09-08T21:10:33.480377Z",
     "iopub.status.busy": "2025-09-08T21:10:33.479993Z",
     "iopub.status.idle": "2025-09-08T21:10:41.719390Z",
     "shell.execute_reply": "2025-09-08T21:10:41.718592Z"
    },
    "papermill": {
     "duration": 8.248597,
     "end_time": "2025-09-08T21:10:41.721009",
     "exception": false,
     "start_time": "2025-09-08T21:10:33.472412",
     "status": "completed"
    },
    "tags": []
   },
   "outputs": [],
   "source": [
    "import os \n",
    "import pandas as pd\n",
    "import numpy as np\n",
    "import torch\n",
    "import torch.nn as nn\n",
    "from torch.utils.data import TensorDataset, DataLoader, Subset\n",
    "from sklearn.model_selection import GroupKFold\n",
    "from sklearn.metrics import accuracy_score, f1_score, confusion_matrix, classification_report\n"
   ]
  },
  {
   "cell_type": "code",
   "execution_count": 2,
   "id": "10463769",
   "metadata": {
    "execution": {
     "iopub.execute_input": "2025-09-08T21:10:41.729163Z",
     "iopub.status.busy": "2025-09-08T21:10:41.728341Z",
     "iopub.status.idle": "2025-09-08T21:10:41.887506Z",
     "shell.execute_reply": "2025-09-08T21:10:41.886593Z"
    },
    "papermill": {
     "duration": 0.16427,
     "end_time": "2025-09-08T21:10:41.888793",
     "exception": false,
     "start_time": "2025-09-08T21:10:41.724523",
     "status": "completed"
    },
    "tags": []
   },
   "outputs": [
    {
     "data": {
      "text/html": [
       "<div>\n",
       "<style scoped>\n",
       "    .dataframe tbody tr th:only-of-type {\n",
       "        vertical-align: middle;\n",
       "    }\n",
       "\n",
       "    .dataframe tbody tr th {\n",
       "        vertical-align: top;\n",
       "    }\n",
       "\n",
       "    .dataframe thead th {\n",
       "        text-align: right;\n",
       "    }\n",
       "</style>\n",
       "<table border=\"1\" class=\"dataframe\">\n",
       "  <thead>\n",
       "    <tr style=\"text-align: right;\">\n",
       "      <th></th>\n",
       "      <th>SubjectID</th>\n",
       "      <th>VideoID</th>\n",
       "      <th>Attention</th>\n",
       "      <th>Mediation</th>\n",
       "      <th>Raw</th>\n",
       "      <th>Delta</th>\n",
       "      <th>Theta</th>\n",
       "      <th>Alpha1</th>\n",
       "      <th>Alpha2</th>\n",
       "      <th>Beta1</th>\n",
       "      <th>Beta2</th>\n",
       "      <th>Gamma1</th>\n",
       "      <th>Gamma2</th>\n",
       "      <th>predefinedlabel</th>\n",
       "      <th>user-definedlabeln</th>\n",
       "    </tr>\n",
       "  </thead>\n",
       "  <tbody>\n",
       "    <tr>\n",
       "      <th>0</th>\n",
       "      <td>0.0</td>\n",
       "      <td>0.0</td>\n",
       "      <td>56.0</td>\n",
       "      <td>43.0</td>\n",
       "      <td>278.0</td>\n",
       "      <td>301963.0</td>\n",
       "      <td>90612.0</td>\n",
       "      <td>33735.0</td>\n",
       "      <td>23991.0</td>\n",
       "      <td>27946.0</td>\n",
       "      <td>45097.0</td>\n",
       "      <td>33228.0</td>\n",
       "      <td>8293.0</td>\n",
       "      <td>0.0</td>\n",
       "      <td>0.0</td>\n",
       "    </tr>\n",
       "    <tr>\n",
       "      <th>1</th>\n",
       "      <td>0.0</td>\n",
       "      <td>0.0</td>\n",
       "      <td>40.0</td>\n",
       "      <td>35.0</td>\n",
       "      <td>-50.0</td>\n",
       "      <td>73787.0</td>\n",
       "      <td>28083.0</td>\n",
       "      <td>1439.0</td>\n",
       "      <td>2240.0</td>\n",
       "      <td>2746.0</td>\n",
       "      <td>3687.0</td>\n",
       "      <td>5293.0</td>\n",
       "      <td>2740.0</td>\n",
       "      <td>0.0</td>\n",
       "      <td>0.0</td>\n",
       "    </tr>\n",
       "    <tr>\n",
       "      <th>2</th>\n",
       "      <td>0.0</td>\n",
       "      <td>0.0</td>\n",
       "      <td>47.0</td>\n",
       "      <td>48.0</td>\n",
       "      <td>101.0</td>\n",
       "      <td>758353.0</td>\n",
       "      <td>383745.0</td>\n",
       "      <td>201999.0</td>\n",
       "      <td>62107.0</td>\n",
       "      <td>36293.0</td>\n",
       "      <td>130536.0</td>\n",
       "      <td>57243.0</td>\n",
       "      <td>25354.0</td>\n",
       "      <td>0.0</td>\n",
       "      <td>0.0</td>\n",
       "    </tr>\n",
       "    <tr>\n",
       "      <th>3</th>\n",
       "      <td>0.0</td>\n",
       "      <td>0.0</td>\n",
       "      <td>47.0</td>\n",
       "      <td>57.0</td>\n",
       "      <td>-5.0</td>\n",
       "      <td>2012240.0</td>\n",
       "      <td>129350.0</td>\n",
       "      <td>61236.0</td>\n",
       "      <td>17084.0</td>\n",
       "      <td>11488.0</td>\n",
       "      <td>62462.0</td>\n",
       "      <td>49960.0</td>\n",
       "      <td>33932.0</td>\n",
       "      <td>0.0</td>\n",
       "      <td>0.0</td>\n",
       "    </tr>\n",
       "    <tr>\n",
       "      <th>4</th>\n",
       "      <td>0.0</td>\n",
       "      <td>0.0</td>\n",
       "      <td>44.0</td>\n",
       "      <td>53.0</td>\n",
       "      <td>-8.0</td>\n",
       "      <td>1005145.0</td>\n",
       "      <td>354328.0</td>\n",
       "      <td>37102.0</td>\n",
       "      <td>88881.0</td>\n",
       "      <td>45307.0</td>\n",
       "      <td>99603.0</td>\n",
       "      <td>44790.0</td>\n",
       "      <td>29749.0</td>\n",
       "      <td>0.0</td>\n",
       "      <td>0.0</td>\n",
       "    </tr>\n",
       "  </tbody>\n",
       "</table>\n",
       "</div>"
      ],
      "text/plain": [
       "   SubjectID  VideoID  Attention  Mediation    Raw      Delta     Theta  \\\n",
       "0        0.0      0.0       56.0       43.0  278.0   301963.0   90612.0   \n",
       "1        0.0      0.0       40.0       35.0  -50.0    73787.0   28083.0   \n",
       "2        0.0      0.0       47.0       48.0  101.0   758353.0  383745.0   \n",
       "3        0.0      0.0       47.0       57.0   -5.0  2012240.0  129350.0   \n",
       "4        0.0      0.0       44.0       53.0   -8.0  1005145.0  354328.0   \n",
       "\n",
       "     Alpha1   Alpha2    Beta1     Beta2   Gamma1   Gamma2  predefinedlabel  \\\n",
       "0   33735.0  23991.0  27946.0   45097.0  33228.0   8293.0              0.0   \n",
       "1    1439.0   2240.0   2746.0    3687.0   5293.0   2740.0              0.0   \n",
       "2  201999.0  62107.0  36293.0  130536.0  57243.0  25354.0              0.0   \n",
       "3   61236.0  17084.0  11488.0   62462.0  49960.0  33932.0              0.0   \n",
       "4   37102.0  88881.0  45307.0   99603.0  44790.0  29749.0              0.0   \n",
       "\n",
       "   user-definedlabeln  \n",
       "0                 0.0  \n",
       "1                 0.0  \n",
       "2                 0.0  \n",
       "3                 0.0  \n",
       "4                 0.0  "
      ]
     },
     "execution_count": 2,
     "metadata": {},
     "output_type": "execute_result"
    }
   ],
   "source": [
    "data = pd.read_csv(\"/kaggle/input/confused-eeg/EEG_data.csv\")\n",
    "data.head()"
   ]
  },
  {
   "cell_type": "code",
   "execution_count": 3,
   "id": "335eb278",
   "metadata": {
    "execution": {
     "iopub.execute_input": "2025-09-08T21:10:41.896732Z",
     "iopub.status.busy": "2025-09-08T21:10:41.896434Z",
     "iopub.status.idle": "2025-09-08T21:10:43.666149Z",
     "shell.execute_reply": "2025-09-08T21:10:43.665279Z"
    },
    "papermill": {
     "duration": 1.775672,
     "end_time": "2025-09-08T21:10:43.668024",
     "exception": false,
     "start_time": "2025-09-08T21:10:41.892352",
     "status": "completed"
    },
    "tags": []
   },
   "outputs": [
    {
     "data": {
      "text/plain": [
       "<Axes: >"
      ]
     },
     "execution_count": 3,
     "metadata": {},
     "output_type": "execute_result"
    },
    {
     "data": {
      "image/png": "[encoded data removed]",
      "text/plain": [
       "<Figure size 640x480 with 1 Axes>"
      ]
     },
     "metadata": {},
     "output_type": "display_data"
    }
   ],
   "source": [
    "data.plot()"
   ]
  },
  {
   "cell_type": "code",
   "execution_count": 4,
   "id": "d69b4445",
   "metadata": {
    "execution": {
     "iopub.execute_input": "2025-09-08T21:10:43.678212Z",
     "iopub.status.busy": "2025-09-08T21:10:43.677613Z",
     "iopub.status.idle": "2025-09-08T21:10:43.681575Z",
     "shell.execute_reply": "2025-09-08T21:10:43.680872Z"
    },
    "papermill": {
     "duration": 0.010385,
     "end_time": "2025-09-08T21:10:43.682960",
     "exception": false,
     "start_time": "2025-09-08T21:10:43.672575",
     "status": "completed"
    },
    "tags": []
   },
   "outputs": [],
   "source": [
    "df = pd.DataFrame(data)"
   ]
  },
  {
   "cell_type": "code",
   "execution_count": 5,
   "id": "7066dac6",
   "metadata": {
    "execution": {
     "iopub.execute_input": "2025-09-08T21:10:43.692528Z",
     "iopub.status.busy": "2025-09-08T21:10:43.692253Z",
     "iopub.status.idle": "2025-09-08T21:10:43.699197Z",
     "shell.execute_reply": "2025-09-08T21:10:43.698407Z"
    },
    "papermill": {
     "duration": 0.013142,
     "end_time": "2025-09-08T21:10:43.700471",
     "exception": false,
     "start_time": "2025-09-08T21:10:43.687329",
     "status": "completed"
    },
    "tags": []
   },
   "outputs": [
    {
     "data": {
      "text/plain": [
       "Index(['SubjectID', 'VideoID', 'Attention', 'Mediation', 'Raw', 'Delta',\n",
       "       'Theta', 'Alpha1', 'Alpha2', 'Beta1', 'Beta2', 'Gamma1', 'Gamma2',\n",
       "       'predefinedlabel', 'user-definedlabeln'],\n",
       "      dtype='object')"
      ]
     },
     "execution_count": 5,
     "metadata": {},
     "output_type": "execute_result"
    }
   ],
   "source": [
    "df.columns"
   ]
  },
  {
   "cell_type": "markdown",
   "id": "db3252fc",
   "metadata": {
    "papermill": {
     "duration": 0.004031,
     "end_time": "2025-09-08T21:10:43.708819",
     "exception": false,
     "start_time": "2025-09-08T21:10:43.704788",
     "status": "completed"
    },
    "tags": []
   },
   "source": [
    "Segmentation:"
   ]
  },
  {
   "cell_type": "code",
   "execution_count": 6,
   "id": "65784fa6",
   "metadata": {
    "execution": {
     "iopub.execute_input": "2025-09-08T21:10:43.718321Z",
     "iopub.status.busy": "2025-09-08T21:10:43.718032Z",
     "iopub.status.idle": "2025-09-08T21:10:43.750156Z",
     "shell.execute_reply": "2025-09-08T21:10:43.749377Z"
    },
    "papermill": {
     "duration": 0.038669,
     "end_time": "2025-09-08T21:10:43.751641",
     "exception": false,
     "start_time": "2025-09-08T21:10:43.712972",
     "status": "completed"
    },
    "tags": []
   },
   "outputs": [],
   "source": [
    "#params for segmentation:\n",
    "frequency = 2.0 #samples/sec (as sampled every 0.5s)\n",
    "window_secs = 5 #window length we will use for segmentation\n",
    "step_secs = 2.5 #step between windows, as window length = 5, \n",
    "#there will be a 50% overlap between windows\n",
    "\n",
    "#rows per window/step:\n",
    "window_rows = int(round(window_secs*frequency)) \n",
    "step_rows = int(round(step_secs*frequency)) \n",
    "\n",
    "X_raw, y, groups, meta = [], [], [], []\n",
    "\n",
    "for (subject, video), trial in df.groupby(['SubjectID', 'VideoID'], sort = False):\n",
    "    x = trial[\"Raw\"].to_numpy(float)\n",
    "    if len(x) < window_rows:\n",
    "        continue #check if trial is long enough to make a full window\n",
    "\n",
    "    label = int(trial[\"predefinedlabel\"].iloc[0])\n",
    "    for start in range(0, len(x) - window_rows + 1, step_rows):\n",
    "        w = x[start:start + window_rows]   # one window vector (5s -> 10 samples)\n",
    "        X_raw.append(w)\n",
    "        y.append(label)\n",
    "        groups.append(subject)\n",
    "        meta.append({\n",
    "            \"subject\": subject, \"video\": video,\n",
    "            \"start_idx\": start,\n",
    "            \"start_time_s\": start / frequency,\n",
    "            \"end_time_s\": (start + window_rows) / frequency\n",
    "        })\n",
    "X_raw  = np.stack(X_raw, axis=0) if X_raw else np.empty((0, window_rows))\n",
    "y = np.array(y, dtype=int)\n",
    "groups = np.array(groups)\n",
    "meta = pd.DataFrame(meta)"
   ]
  },
  {
   "cell_type": "code",
   "execution_count": 7,
   "id": "b8290de8",
   "metadata": {
    "execution": {
     "iopub.execute_input": "2025-09-08T21:10:43.761750Z",
     "iopub.status.busy": "2025-09-08T21:10:43.761460Z",
     "iopub.status.idle": "2025-09-08T21:10:43.769870Z",
     "shell.execute_reply": "2025-09-08T21:10:43.768988Z"
    },
    "papermill": {
     "duration": 0.014853,
     "end_time": "2025-09-08T21:10:43.771163",
     "exception": false,
     "start_time": "2025-09-08T21:10:43.756310",
     "status": "completed"
    },
    "tags": []
   },
   "outputs": [
    {
     "name": "stdout",
     "output_type": "stream",
     "text": [
      "X_raw: (2420, 10)\n",
      "y: (2420,) unique subjects: 10\n",
      "   subject  video  start_idx  start_time_s  end_time_s\n",
      "0      0.0    0.0          0           0.0         5.0\n",
      "1      0.0    0.0          5           2.5         7.5\n",
      "2      0.0    0.0         10           5.0        10.0\n",
      "3      0.0    0.0         15           7.5        12.5\n",
      "4      0.0    0.0         20          10.0        15.0\n"
     ]
    }
   ],
   "source": [
    "print(\"X_raw:\", X_raw.shape)          # (N_windows, window_rows)\n",
    "print(\"y:\", y.shape, \"unique subjects:\", np.unique(groups).size)\n",
    "print(meta.head())"
   ]
  },
  {
   "cell_type": "code",
   "execution_count": 8,
   "id": "004cee65",
   "metadata": {
    "execution": {
     "iopub.execute_input": "2025-09-08T21:10:43.781578Z",
     "iopub.status.busy": "2025-09-08T21:10:43.780755Z",
     "iopub.status.idle": "2025-09-08T21:10:43.793883Z",
     "shell.execute_reply": "2025-09-08T21:10:43.793012Z"
    },
    "papermill": {
     "duration": 0.019784,
     "end_time": "2025-09-08T21:10:43.795445",
     "exception": false,
     "start_time": "2025-09-08T21:10:43.775661",
     "status": "completed"
    },
    "tags": []
   },
   "outputs": [],
   "source": [
    "#standardize windows:\n",
    "mu = X_raw.mean(axis=1, keepdims=True)\n",
    "sd = X_raw.std(axis=1, keepdims=True) + 1e-8\n",
    "X_raw_z = (X_raw - mu) / sd"
   ]
  },
  {
   "cell_type": "code",
   "execution_count": 9,
   "id": "56e5c457",
   "metadata": {
    "execution": {
     "iopub.execute_input": "2025-09-08T21:10:43.805315Z",
     "iopub.status.busy": "2025-09-08T21:10:43.805040Z",
     "iopub.status.idle": "2025-09-08T21:10:43.814942Z",
     "shell.execute_reply": "2025-09-08T21:10:43.814158Z"
    },
    "papermill": {
     "duration": 0.016215,
     "end_time": "2025-09-08T21:10:43.816237",
     "exception": false,
     "start_time": "2025-09-08T21:10:43.800022",
     "status": "completed"
    },
    "tags": []
   },
   "outputs": [
    {
     "data": {
      "text/plain": [
       "<torch._C.Generator at 0x7901fd439f30>"
      ]
     },
     "execution_count": 9,
     "metadata": {},
     "output_type": "execute_result"
    }
   ],
   "source": [
    "#set randomness for pytorch and numpy\n",
    "SEED = 42\n",
    "np.random.seed(SEED)\n",
    "torch.manual_seed(SEED)"
   ]
  },
  {
   "cell_type": "code",
   "execution_count": 10,
   "id": "bfc31830",
   "metadata": {
    "execution": {
     "iopub.execute_input": "2025-09-08T21:10:43.826913Z",
     "iopub.status.busy": "2025-09-08T21:10:43.826057Z",
     "iopub.status.idle": "2025-09-08T21:10:43.863924Z",
     "shell.execute_reply": "2025-09-08T21:10:43.863073Z"
    },
    "papermill": {
     "duration": 0.044868,
     "end_time": "2025-09-08T21:10:43.865650",
     "exception": false,
     "start_time": "2025-09-08T21:10:43.820782",
     "status": "completed"
    },
    "tags": []
   },
   "outputs": [],
   "source": [
    "#convert np arays to tensors:\n",
    "X_t = torch.from_numpy(X_raw_z).float().unsqueeze(1)   \n",
    "y_t = torch.from_numpy(y).long()                       \n",
    "ds  = TensorDataset(X_t, y_t)"
   ]
  },
  {
   "cell_type": "code",
   "execution_count": 11,
   "id": "4f6c2992",
   "metadata": {
    "execution": {
     "iopub.execute_input": "2025-09-08T21:10:43.876747Z",
     "iopub.status.busy": "2025-09-08T21:10:43.876473Z",
     "iopub.status.idle": "2025-09-08T21:10:43.882142Z",
     "shell.execute_reply": "2025-09-08T21:10:43.881369Z"
    },
    "papermill": {
     "duration": 0.012165,
     "end_time": "2025-09-08T21:10:43.883350",
     "exception": false,
     "start_time": "2025-09-08T21:10:43.871185",
     "status": "completed"
    },
    "tags": []
   },
   "outputs": [],
   "source": [
    "class CNN1D(nn.Module):\n",
    "    def __init__(self, in_ch=1, n_classes=2, p_drop=0.2):\n",
    "        super().__init__()\n",
    "        self.net = nn.Sequential(\n",
    "            nn.Conv1d(in_ch, 32, kernel_size=5, padding=2),\n",
    "            nn.BatchNorm1d(32),\n",
    "            nn.ReLU(),\n",
    "            nn.MaxPool1d(2),\n",
    "\n",
    "            nn.Conv1d(32, 64, kernel_size=5, padding=2),\n",
    "            nn.BatchNorm1d(64),\n",
    "            nn.ReLU(),\n",
    "\n",
    "            nn.AdaptiveAvgPool1d(1),\n",
    "            nn.Flatten(),\n",
    "            nn.Dropout(p_drop),\n",
    "            nn.Linear(64, n_classes)\n",
    "        )\n",
    "    def forward(self, x): \n",
    "        return self.net(x)"
   ]
  },
  {
   "cell_type": "code",
   "execution_count": 12,
   "id": "8d90c3eb",
   "metadata": {
    "execution": {
     "iopub.execute_input": "2025-09-08T21:10:43.893242Z",
     "iopub.status.busy": "2025-09-08T21:10:43.892969Z",
     "iopub.status.idle": "2025-09-08T21:10:43.896937Z",
     "shell.execute_reply": "2025-09-08T21:10:43.896175Z"
    },
    "papermill": {
     "duration": 0.010285,
     "end_time": "2025-09-08T21:10:43.898177",
     "exception": false,
     "start_time": "2025-09-08T21:10:43.887892",
     "status": "completed"
    },
    "tags": []
   },
   "outputs": [],
   "source": [
    "#training hyperparams:\n",
    "EPOCHS = 15\n",
    "BATCH = 64\n",
    "LR = 1e-3\n",
    "WD = 1e-4       # weight decay (L2)\n",
    "P_DROP = 0.2"
   ]
  },
  {
   "cell_type": "code",
   "execution_count": 13,
   "id": "6a23761b",
   "metadata": {
    "execution": {
     "iopub.execute_input": "2025-09-08T21:10:43.907987Z",
     "iopub.status.busy": "2025-09-08T21:10:43.907726Z",
     "iopub.status.idle": "2025-09-08T21:11:00.592671Z",
     "shell.execute_reply": "2025-09-08T21:11:00.591687Z"
    },
    "papermill": {
     "duration": 16.69154,
     "end_time": "2025-09-08T21:11:00.594240",
     "exception": false,
     "start_time": "2025-09-08T21:10:43.902700",
     "status": "completed"
    },
    "tags": []
   },
   "outputs": [
    {
     "name": "stdout",
     "output_type": "stream",
     "text": [
      "\n",
      "=== Fold 1/5 ===\n",
      "Fold results  acc 0.512 f1 0.523 \n",
      "CM:\n",
      " [[119 137]\n",
      " [100 130]]\n",
      "              precision    recall  f1-score   support\n",
      "\n",
      "           0      0.543     0.465     0.501       256\n",
      "           1      0.487     0.565     0.523       230\n",
      "\n",
      "    accuracy                          0.512       486\n",
      "   macro avg      0.515     0.515     0.512       486\n",
      "weighted avg      0.517     0.512     0.512       486\n",
      "\n",
      "\n",
      "=== Fold 2/5 ===\n",
      "Fold results  acc 0.49 f1 0.543 \n",
      "CM:\n",
      " [[ 90 162]\n",
      " [ 85 147]]\n",
      "              precision    recall  f1-score   support\n",
      "\n",
      "           0      0.514     0.357     0.422       252\n",
      "           1      0.476     0.634     0.543       232\n",
      "\n",
      "    accuracy                          0.490       484\n",
      "   macro avg      0.495     0.495     0.482       484\n",
      "weighted avg      0.496     0.490     0.480       484\n",
      "\n",
      "\n",
      "=== Fold 3/5 ===\n",
      "Fold results  acc 0.491 f1 0.369 \n",
      "CM:\n",
      " [[165  87]\n",
      " [159  72]]\n",
      "              precision    recall  f1-score   support\n",
      "\n",
      "           0      0.509     0.655     0.573       252\n",
      "           1      0.453     0.312     0.369       231\n",
      "\n",
      "    accuracy                          0.491       483\n",
      "   macro avg      0.481     0.483     0.471       483\n",
      "weighted avg      0.482     0.491     0.476       483\n",
      "\n",
      "\n",
      "=== Fold 4/5 ===\n",
      "Fold results  acc 0.481 f1 0.463 \n",
      "CM:\n",
      " [[125 127]\n",
      " [124 108]]\n",
      "              precision    recall  f1-score   support\n",
      "\n",
      "           0      0.502     0.496     0.499       252\n",
      "           1      0.460     0.466     0.463       232\n",
      "\n",
      "    accuracy                          0.481       484\n",
      "   macro avg      0.481     0.481     0.481       484\n",
      "weighted avg      0.482     0.481     0.482       484\n",
      "\n",
      "\n",
      "=== Fold 5/5 ===\n",
      "Fold results  acc 0.497 f1 0.464 \n",
      "CM:\n",
      " [[135 117]\n",
      " [126 105]]\n",
      "              precision    recall  f1-score   support\n",
      "\n",
      "           0      0.517     0.536     0.526       252\n",
      "           1      0.473     0.455     0.464       231\n",
      "\n",
      "    accuracy                          0.497       483\n",
      "   macro avg      0.495     0.495     0.495       483\n",
      "weighted avg      0.496     0.497     0.496       483\n",
      "\n",
      "\n",
      "=== CNN1D GroupKFold summary ===\n",
      "Accuracies per fold: [0.512, 0.49, 0.491, 0.481, 0.497]\n",
      "Mean accuracy: 0.494 ± 0.010\n",
      "F1 per fold: [0.523, 0.543, 0.369, 0.463, 0.464]\n",
      "Mean F1: 0.472 ± 0.061\n"
     ]
    }
   ],
   "source": [
    "#Subject Aware splitting (Group K fold):\n",
    "n_splits = min(5, np.unique(groups).size)\n",
    "gkf = GroupKFold(n_splits=n_splits)\n",
    "\n",
    "fold_accuracies, fold_f1_scores = [], []\n",
    "for fold_idx, (train_indices, test_indices) in enumerate(\n",
    "        gkf.split(X_raw_z, y, groups=groups), start=1):\n",
    "    print(f\"\\n=== Fold {fold_idx}/{n_splits} ===\")\n",
    "    \n",
    "    train_loader = DataLoader(Subset(ds, train_indices), batch_size=BATCH, shuffle=True)\n",
    "    test_loader = DataLoader(Subset(ds, test_indices),  batch_size=BATCH*2, shuffle=False)\n",
    "\n",
    "    model = CNN1D(p_drop=P_DROP)\n",
    "\n",
    "    # Class-weighted loss on training set\n",
    "    class_counts = np.bincount(y[train_indices], minlength=2)\n",
    "    class_weights = (class_counts.sum() / np.maximum(class_counts, 1)).astype(np.float32)\n",
    "    criterion = nn.CrossEntropyLoss(weight=torch.tensor(class_weights))\n",
    "    optimizer = torch.optim.Adam(model.parameters(), lr=LR, weight_decay=WD)\n",
    "\n",
    "    #Training:\n",
    "    for epoch in range(1, EPOCHS + 1):\n",
    "            model.train()\n",
    "            epoch_loss_sum = 0.0\n",
    "            for xb, yb in train_loader:\n",
    "                optimizer.zero_grad()\n",
    "                logits = model(xb)\n",
    "                loss = criterion(logits, yb)\n",
    "                loss.backward()\n",
    "                optimizer.step()\n",
    "                epoch_loss_sum += loss.item() * xb.size(0)\n",
    "                \n",
    "    #Eval on fold\n",
    "    model.eval()\n",
    "    test_preds, test_trues = [], []\n",
    "    with torch.no_grad():\n",
    "        for xb, yb in test_loader:\n",
    "            test_preds.append(model(xb).argmax(1))\n",
    "            test_trues.append(yb)\n",
    "    y_pred = torch.cat(test_preds).numpy()\n",
    "    y_true = torch.cat(test_trues).numpy()\n",
    "\n",
    "    fold_accuracy = accuracy_score(y_true, y_pred)\n",
    "    fold_f1 = f1_score(y_true, y_pred)\n",
    "    fold_conf_matrix = confusion_matrix(y_true, y_pred)\n",
    "\n",
    "    print(\"Fold results  acc\", round(fold_accuracy,3), \"f1\", round(fold_f1,3), \"\\nCM:\\n\", fold_conf_matrix)\n",
    "    print(classification_report(y_true, y_pred, digits=3))\n",
    "\n",
    "    fold_accuracies.append(fold_accuracy)\n",
    "    fold_f1_scores.append(fold_f1)\n",
    "\n",
    "acc_mean = float(np.mean(fold_accuracies)); acc_std = float(np.std(fold_accuracies))\n",
    "f1_mean  = float(np.mean(fold_f1_scores));  f1_std  = float(np.std(fold_f1_scores))\n",
    "\n",
    "\n",
    "#Summary accross folds:\n",
    "print(\"\\n=== CNN1D GroupKFold summary ===\")\n",
    "print(\"Accuracies per fold:\", [round(a,3) for a in fold_accuracies])\n",
    "print(f\"Mean accuracy: {acc_mean:.3f} ± {acc_std:.3f}\")\n",
    "print(\"F1 per fold:\", [round(f,3) for f in fold_f1_scores])\n",
    "print(f\"Mean F1: {f1_mean:.3f} ± {f1_std:.3f}\")"
   ]
  }
 ],
 "metadata": {
  "kaggle": {
   "accelerator": "none",
   "dataSources": [
    {
     "datasetId": 106,
     "sourceId": 24522,
     "sourceType": "datasetVersion"
    }
   ],
   "dockerImageVersionId": 31089,
   "isGpuEnabled": false,
   "isInternetEnabled": true,
   "language": "python",
   "sourceType": "notebook"
  },
  "kernelspec": {
   "display_name": "Python 3",
   "language": "python",
   "name": "python3"
  },
  "language_info": {
   "codemirror_mode": {
    "name": "ipython",
    "version": 3
   },
   "file_extension": ".py",
   "mimetype": "text/x-python",
   "name": "python",
   "nbconvert_exporter": "python",
   "pygments_lexer": "ipython3",
   "version": "3.11.13"
  },
  "papermill": {
   "default_parameters": {},
   "duration": 34.502431,
   "end_time": "2025-09-08T21:11:03.060650",
   "environment_variables": {},
   "exception": null,
   "input_path": "__notebook__.ipynb",
   "output_path": "__notebook__.ipynb",
   "parameters": {},
   "start_time": "2025-09-08T21:10:28.558219",
   "version": "2.6.0"
  }
 },
 "nbformat": 4,
 "nbformat_minor": 5
}
